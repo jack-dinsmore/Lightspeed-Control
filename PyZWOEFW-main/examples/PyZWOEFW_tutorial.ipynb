{
 "cells": [
  {
   "cell_type": "markdown",
   "id": "mineral-reform",
   "metadata": {},
   "source": [
    "# Controling ZWO electronic filter wheel with python"
   ]
  },
  {
   "cell_type": "markdown",
   "id": "coordinate-silicon",
   "metadata": {},
   "source": [
    "## Download the ZWOEFW drivers and SDK \n",
    "\n",
    "The latest version of SDK for the EFW can be found [here](https://astronomy-imaging-camera.com/software-drivers) in Developpers/SDK\n",
    "\n",
    "Move the dll in the current working directory. "
   ]
  },
  {
   "cell_type": "markdown",
   "id": "ruled-agriculture",
   "metadata": {},
   "source": [
    "## Install the PyZWOEFW package\n",
    "\n",
    "Download the package,  go to the package directory with anaconda prompt and run\n",
    "```\n",
    "pip install -e PyZWOEFW\n",
    "```"
   ]
  },
  {
   "cell_type": "markdown",
   "id": "behavioral-airport",
   "metadata": {
    "tags": []
   },
   "source": [
    "## Use the package\n",
    "\n",
    "If the dll file from the SDK has been moved to the correct folder, this command should work: "
   ]
  },
  {
   "cell_type": "code",
   "execution_count": 1,
   "id": "fbdb617f-f469-4285-9cd6-fc13b764d393",
   "metadata": {
    "ExecuteTime": {
     "end_time": "2022-03-29T09:28:03.212198Z",
     "start_time": "2022-03-29T09:28:03.153421Z"
    },
    "tags": []
   },
   "outputs": [
    {
     "data": {
      "text/plain": [
       "<CDLL 'libudev.so.1', handle 2a9f6e0 at 0x7e85a0165d30>"
      ]
     },
     "execution_count": 1,
     "metadata": {},
     "output_type": "execute_result"
    }
   ],
   "source": [
    "from PyZWOEFW import EFW, SingleMiniEFW\n",
    "import ctypes\n",
    "ctypes.CDLL(\"libudev.so.1\", mode=ctypes.RTLD_GLOBAL)"
   ]
  },
  {
   "cell_type": "code",
   "execution_count": 2,
   "id": "3bff9f42-16ec-427a-a738-62d9f14da9e8",
   "metadata": {
    "ExecuteTime": {
     "end_time": "2022-03-29T09:26:12.329548Z",
     "start_time": "2022-03-29T09:26:11.824957Z"
    }
   },
   "outputs": [
    {
     "name": "stdout",
     "output_type": "stream",
     "text": [
      "4\n"
     ]
    },
    {
     "ename": "EFW_IOError",
     "evalue": "EFW closed",
     "output_type": "error",
     "traceback": [
      "\u001b[31m---------------------------------------------------------------------------\u001b[39m",
      "\u001b[31mEFW_IOError\u001b[39m                               Traceback (most recent call last)",
      "\u001b[36mCell\u001b[39m\u001b[36m \u001b[39m\u001b[32mIn[2]\u001b[39m\u001b[32m, line 1\u001b[39m\n\u001b[32m----> \u001b[39m\u001b[32m1\u001b[39m wheel = \u001b[43mEFW\u001b[49m\u001b[43m(\u001b[49m\u001b[33;43m'\u001b[39;49m\u001b[33;43mlibEFWFilter.so.1.7\u001b[39;49m\u001b[33;43m'\u001b[39;49m\u001b[43m)\u001b[49m\n",
      "\u001b[36mFile \u001b[39m\u001b[32m~/Documents/Lightspeed-Control/PyZWOEFW-main/PyZWOEFW/pyzwoefw.py:125\u001b[39m, in \u001b[36mEFW.__init__\u001b[39m\u001b[34m(self, library_file, verbose)\u001b[39m\n\u001b[32m    123\u001b[39m \u001b[38;5;66;03m#open wheels and get slots number\u001b[39;00m\n\u001b[32m    124\u001b[39m \u001b[38;5;28;01mfor\u001b[39;00m ID \u001b[38;5;129;01min\u001b[39;00m \u001b[38;5;28mself\u001b[39m.IDs: \n\u001b[32m--> \u001b[39m\u001b[32m125\u001b[39m     \u001b[38;5;28;43mself\u001b[39;49m\u001b[43m.\u001b[49m\u001b[43mOpen\u001b[49m\u001b[43m(\u001b[49m\u001b[43mID\u001b[49m\u001b[43m)\u001b[49m\n\u001b[32m    126\u001b[39m     \u001b[38;5;28mself\u001b[39m.slotNums[ID] = (\u001b[38;5;28mself\u001b[39m.GetProperty(ID)[\u001b[33m'\u001b[39m\u001b[33mslotNum\u001b[39m\u001b[33m'\u001b[39m])\n\u001b[32m    127\u001b[39m     \u001b[38;5;28mself\u001b[39m.SetDirection(ID, \u001b[38;5;28;01mTrue\u001b[39;00m)\n",
      "\u001b[36mFile \u001b[39m\u001b[32m~/Documents/Lightspeed-Control/PyZWOEFW-main/PyZWOEFW/pyzwoefw.py:147\u001b[39m, in \u001b[36mEFW.Open\u001b[39m\u001b[34m(self, ID)\u001b[39m\n\u001b[32m    145\u001b[39m \u001b[38;5;28;01mif\u001b[39;00m \u001b[38;5;28mself\u001b[39m.verbose: \n\u001b[32m    146\u001b[39m     \u001b[38;5;28mprint\u001b[39m(r)\n\u001b[32m--> \u001b[39m\u001b[32m147\u001b[39m \u001b[38;5;28;01mraise\u001b[39;00m efw_errors[r]\n",
      "\u001b[31mEFW_IOError\u001b[39m: EFW closed"
     ]
    }
   ],
   "source": [
    "wheel = EFW('libEFWFilter.so.1.7')"
   ]
  },
  {
   "cell_type": "markdown",
   "id": "392c042e",
   "metadata": {},
   "source": [
    "if you connected the EFW, you should detect one EFW with _GetNum_"
   ]
  },
  {
   "cell_type": "code",
   "execution_count": null,
   "id": "e76d15e2",
   "metadata": {
    "ExecuteTime": {
     "end_time": "2022-03-29T09:26:13.196243Z",
     "start_time": "2022-03-29T09:26:13.185243Z"
    }
   },
   "outputs": [
    {
     "name": "stdout",
     "output_type": "stream",
     "text": [
      "[0]\n",
      "4\n"
     ]
    },
    {
     "ename": "EFW_IOError",
     "evalue": "EFW closed",
     "output_type": "error",
     "traceback": [
      "\u001b[31m---------------------------------------------------------------------------\u001b[39m",
      "\u001b[31mEFW_IOError\u001b[39m                               Traceback (most recent call last)",
      "\u001b[36mCell\u001b[39m\u001b[36m \u001b[39m\u001b[32mIn[8]\u001b[39m\u001b[32m, line 2\u001b[39m\n\u001b[32m      1\u001b[39m n = wheel.GetNum()\n\u001b[32m----> \u001b[39m\u001b[32m2\u001b[39m \u001b[43mwheel\u001b[49m\u001b[43m.\u001b[49m\u001b[34;43m__init__\u001b[39;49m\u001b[43m(\u001b[49m\u001b[33;43m'\u001b[39;49m\u001b[33;43mlibEFWFilter.so.1.7\u001b[39;49m\u001b[33;43m'\u001b[39;49m\u001b[43m)\u001b[49m\n\u001b[32m      3\u001b[39m \u001b[38;5;28mprint\u001b[39m(n)\n",
      "\u001b[36mFile \u001b[39m\u001b[32m~/Documents/Lightspeed-Control/PyZWOEFW-main/PyZWOEFW/pyzwoefw.py:126\u001b[39m, in \u001b[36mEFW.__init__\u001b[39m\u001b[34m(self, library_file, verbose)\u001b[39m\n\u001b[32m    124\u001b[39m \u001b[38;5;66;03m#open wheels and get slots number\u001b[39;00m\n\u001b[32m    125\u001b[39m \u001b[38;5;28;01mfor\u001b[39;00m ID \u001b[38;5;129;01min\u001b[39;00m \u001b[38;5;28mself\u001b[39m.IDs: \n\u001b[32m--> \u001b[39m\u001b[32m126\u001b[39m     \u001b[38;5;28;43mself\u001b[39;49m\u001b[43m.\u001b[49m\u001b[43mOpen\u001b[49m\u001b[43m(\u001b[49m\u001b[43mID\u001b[49m\u001b[43m)\u001b[49m\n\u001b[32m    127\u001b[39m     \u001b[38;5;28mself\u001b[39m.slotNums[ID] = (\u001b[38;5;28mself\u001b[39m.GetProperty(ID)[\u001b[33m'\u001b[39m\u001b[33mslotNum\u001b[39m\u001b[33m'\u001b[39m])\n\u001b[32m    128\u001b[39m     \u001b[38;5;28mself\u001b[39m.SetDirection(ID, \u001b[38;5;28;01mTrue\u001b[39;00m)\n",
      "\u001b[36mFile \u001b[39m\u001b[32m~/Documents/Lightspeed-Control/PyZWOEFW-main/PyZWOEFW/pyzwoefw.py:148\u001b[39m, in \u001b[36mEFW.Open\u001b[39m\u001b[34m(self, ID)\u001b[39m\n\u001b[32m    146\u001b[39m \u001b[38;5;28;01mif\u001b[39;00m \u001b[38;5;28mself\u001b[39m.verbose: \n\u001b[32m    147\u001b[39m     \u001b[38;5;28mprint\u001b[39m(r)\n\u001b[32m--> \u001b[39m\u001b[32m148\u001b[39m \u001b[38;5;28;01mraise\u001b[39;00m efw_errors[r]\n",
      "    \u001b[31m[... skipping hidden 1 frame]\u001b[39m\n",
      "\u001b[36mCell\u001b[39m\u001b[36m \u001b[39m\u001b[32mIn[3]\u001b[39m\u001b[32m, line 1\u001b[39m\n\u001b[32m----> \u001b[39m\u001b[32m1\u001b[39m wheel = \u001b[43mEFW\u001b[49m\u001b[43m(\u001b[49m\u001b[33;43m'\u001b[39;49m\u001b[33;43mlibEFWFilter.so.1.7\u001b[39;49m\u001b[33;43m'\u001b[39;49m\u001b[43m)\u001b[49m\n",
      "\u001b[36mFile \u001b[39m\u001b[32m~/Documents/Lightspeed-Control/PyZWOEFW-main/PyZWOEFW/pyzwoefw.py:126\u001b[39m, in \u001b[36mEFW.__init__\u001b[39m\u001b[34m(self, library_file, verbose)\u001b[39m\n\u001b[32m    124\u001b[39m \u001b[38;5;66;03m#open wheels and get slots number\u001b[39;00m\n\u001b[32m    125\u001b[39m \u001b[38;5;28;01mfor\u001b[39;00m ID \u001b[38;5;129;01min\u001b[39;00m \u001b[38;5;28mself\u001b[39m.IDs: \n\u001b[32m--> \u001b[39m\u001b[32m126\u001b[39m     \u001b[38;5;28;43mself\u001b[39;49m\u001b[43m.\u001b[49m\u001b[43mOpen\u001b[49m\u001b[43m(\u001b[49m\u001b[43mID\u001b[49m\u001b[43m)\u001b[49m\n\u001b[32m    127\u001b[39m     \u001b[38;5;28mself\u001b[39m.slotNums[ID] = (\u001b[38;5;28mself\u001b[39m.GetProperty(ID)[\u001b[33m'\u001b[39m\u001b[33mslotNum\u001b[39m\u001b[33m'\u001b[39m])\n\u001b[32m    128\u001b[39m     \u001b[38;5;28mself\u001b[39m.SetDirection(ID, \u001b[38;5;28;01mTrue\u001b[39;00m)\n",
      "\u001b[36mFile \u001b[39m\u001b[32m~/Documents/Lightspeed-Control/PyZWOEFW-main/PyZWOEFW/pyzwoefw.py:148\u001b[39m, in \u001b[36mEFW.Open\u001b[39m\u001b[34m(self, ID)\u001b[39m\n\u001b[32m    146\u001b[39m \u001b[38;5;28;01mif\u001b[39;00m \u001b[38;5;28mself\u001b[39m.verbose: \n\u001b[32m    147\u001b[39m     \u001b[38;5;28mprint\u001b[39m(r)\n\u001b[32m--> \u001b[39m\u001b[32m148\u001b[39m \u001b[38;5;28;01mraise\u001b[39;00m efw_errors[r]\n",
      "\u001b[31mEFW_IOError\u001b[39m: EFW closed"
     ]
    }
   ],
   "source": [
    "n = wheel.GetNum()\n",
    "print(n)"
   ]
  },
  {
   "cell_type": "code",
   "execution_count": 32,
   "id": "912da25c-c8eb-4a65-9d29-d3cc569d9937",
   "metadata": {
    "ExecuteTime": {
     "end_time": "2022-03-29T09:26:13.908095Z",
     "start_time": "2022-03-29T09:26:13.897126Z"
    }
   },
   "outputs": [
    {
     "ename": "IndexError",
     "evalue": "list index out of range",
     "output_type": "error",
     "traceback": [
      "\u001b[31m---------------------------------------------------------------------------\u001b[39m",
      "\u001b[31mIndexError\u001b[39m                                Traceback (most recent call last)",
      "\u001b[36mCell\u001b[39m\u001b[36m \u001b[39m\u001b[32mIn[32]\u001b[39m\u001b[32m, line 1\u001b[39m\n\u001b[32m----> \u001b[39m\u001b[32m1\u001b[39m wheel.GetProperty(\u001b[43mwheel\u001b[49m\u001b[43m.\u001b[49m\u001b[43mIDs\u001b[49m\u001b[43m[\u001b[49m\u001b[32;43m0\u001b[39;49m\u001b[43m]\u001b[49m)\n",
      "\u001b[31mIndexError\u001b[39m: list index out of range"
     ]
    }
   ],
   "source": [
    "wheel.GetProperty(wheel.IDs[0])"
   ]
  },
  {
   "cell_type": "code",
   "execution_count": null,
   "id": "c600b782",
   "metadata": {
    "ExecuteTime": {
     "end_time": "2022-03-29T09:26:40.170145Z",
     "start_time": "2022-03-29T09:26:14.713098Z"
    }
   },
   "outputs": [],
   "source": [
    "wheel.Calibrate(wheel.IDs[0])"
   ]
  },
  {
   "cell_type": "code",
   "execution_count": 14,
   "id": "bc4ef73a-1dec-4a4c-bb9a-0c16e44690af",
   "metadata": {
    "ExecuteTime": {
     "end_time": "2022-03-29T09:26:41.145268Z",
     "start_time": "2022-03-29T09:26:41.125270Z"
    }
   },
   "outputs": [
    {
     "ename": "IndexError",
     "evalue": "list index out of range",
     "output_type": "error",
     "traceback": [
      "\u001b[31m---------------------------------------------------------------------------\u001b[39m",
      "\u001b[31mIndexError\u001b[39m                                Traceback (most recent call last)",
      "\u001b[36mCell\u001b[39m\u001b[36m \u001b[39m\u001b[32mIn[14]\u001b[39m\u001b[32m, line 1\u001b[39m\n\u001b[32m----> \u001b[39m\u001b[32m1\u001b[39m wheel.GetPosition(\u001b[43mwheel\u001b[49m\u001b[43m.\u001b[49m\u001b[43mIDs\u001b[49m\u001b[43m[\u001b[49m\u001b[32;43m0\u001b[39;49m\u001b[43m]\u001b[49m)\n",
      "\u001b[31mIndexError\u001b[39m: list index out of range"
     ]
    }
   ],
   "source": [
    "wheel.GetPosition(wheel.IDs[0])"
   ]
  },
  {
   "cell_type": "code",
   "execution_count": null,
   "id": "444f60c5-c781-4cc4-a0b8-345b71b40e50",
   "metadata": {
    "ExecuteTime": {
     "end_time": "2022-03-29T09:26:43.718954Z",
     "start_time": "2022-03-29T09:26:42.138291Z"
    }
   },
   "outputs": [],
   "source": [
    "wheel.SetPosition(wheel.IDs[0], 1)"
   ]
  },
  {
   "cell_type": "markdown",
   "id": "ec60961c",
   "metadata": {},
   "source": [
    "In most cases, only one wheel is used. Then, the SingleMiniEFW class can be used."
   ]
  },
  {
   "cell_type": "code",
   "execution_count": null,
   "id": "f3de227e-74cb-4a1f-8d19-8142456f141f",
   "metadata": {
    "ExecuteTime": {
     "end_time": "2022-03-29T09:28:09.788420Z",
     "start_time": "2022-03-29T09:28:09.272636Z"
    }
   },
   "outputs": [],
   "source": [
    "MiniWheel =  SingleMiniEFW('EFW_filter.dll')"
   ]
  },
  {
   "cell_type": "markdown",
   "id": "a09229dc",
   "metadata": {},
   "source": [
    "In this class, the colors of the filters have been hard-coded so that you can specify the color of the filter instead of its position.  \n",
    "This class has been designed for a 5 positions wheel with the filters in the following order: "
   ]
  },
  {
   "cell_type": "code",
   "execution_count": 15,
   "id": "0ce89392",
   "metadata": {
    "ExecuteTime": {
     "end_time": "2022-03-29T09:28:11.296244Z",
     "start_time": "2022-03-29T09:28:11.272244Z"
    }
   },
   "outputs": [
    {
     "ename": "NameError",
     "evalue": "name 'MiniWheel' is not defined",
     "output_type": "error",
     "traceback": [
      "\u001b[31m---------------------------------------------------------------------------\u001b[39m",
      "\u001b[31mNameError\u001b[39m                                 Traceback (most recent call last)",
      "\u001b[36mCell\u001b[39m\u001b[36m \u001b[39m\u001b[32mIn[15]\u001b[39m\u001b[32m, line 1\u001b[39m\n\u001b[32m----> \u001b[39m\u001b[32m1\u001b[39m \u001b[43mMiniWheel\u001b[49m.FiltersSlots\n",
      "\u001b[31mNameError\u001b[39m: name 'MiniWheel' is not defined"
     ]
    }
   ],
   "source": [
    "MiniWheel.FiltersSlots"
   ]
  },
  {
   "cell_type": "code",
   "execution_count": null,
   "id": "2b64a42e",
   "metadata": {
    "ExecuteTime": {
     "end_time": "2022-03-29T09:28:12.467359Z",
     "start_time": "2022-03-29T09:28:12.445419Z"
    }
   },
   "outputs": [
    {
     "data": {
      "text/plain": [
       "{0: 'empty', 1: 'R', 2: 'G', 3: 'B', 4: 'L'}"
      ]
     },
     "execution_count": 4,
     "metadata": {},
     "output_type": "execute_result"
    }
   ],
   "source": [
    "MiniWheel.FiltersNames"
   ]
  },
  {
   "cell_type": "code",
   "execution_count": null,
   "id": "87d46103",
   "metadata": {
    "ExecuteTime": {
     "end_time": "2022-03-29T09:28:15.273492Z",
     "start_time": "2022-03-29T09:28:13.695838Z"
    }
   },
   "outputs": [],
   "source": [
    "MiniWheel.SetColor('R')"
   ]
  },
  {
   "cell_type": "code",
   "execution_count": null,
   "id": "4dd4a2c3",
   "metadata": {
    "ExecuteTime": {
     "end_time": "2022-03-29T09:28:17.935360Z",
     "start_time": "2022-03-29T09:28:16.366589Z"
    }
   },
   "outputs": [],
   "source": [
    "MiniWheel.SetColor('G')"
   ]
  },
  {
   "cell_type": "code",
   "execution_count": null,
   "id": "f5cdc033",
   "metadata": {
    "ExecuteTime": {
     "end_time": "2022-03-29T09:28:19.646109Z",
     "start_time": "2022-03-29T09:28:18.071248Z"
    }
   },
   "outputs": [],
   "source": [
    "MiniWheel.SetColor('B')"
   ]
  },
  {
   "cell_type": "code",
   "execution_count": null,
   "id": "b324edff",
   "metadata": {
    "ExecuteTime": {
     "end_time": "2022-03-29T09:28:22.408920Z",
     "start_time": "2022-03-29T09:28:19.885415Z"
    }
   },
   "outputs": [],
   "source": [
    "MiniWheel.SetColor('empty')"
   ]
  },
  {
   "cell_type": "markdown",
   "id": "d63499d4-da8d-46b9-bf03-45fae2d84c98",
   "metadata": {},
   "source": [
    "# EFW app"
   ]
  },
  {
   "cell_type": "code",
   "execution_count": 16,
   "id": "56483149-f4e2-4397-90f3-49d0e5d0633e",
   "metadata": {
    "ExecuteTime": {
     "end_time": "2022-03-29T09:31:09.827150Z",
     "start_time": "2022-03-29T09:31:09.811120Z"
    }
   },
   "outputs": [],
   "source": [
    "from PyZWOEFW.PyQt_App import ZwoEFW"
   ]
  },
  {
   "cell_type": "code",
   "execution_count": 17,
   "id": "60ff8fa5-d974-40e1-99dd-0de3b1fe1bd9",
   "metadata": {
    "ExecuteTime": {
     "end_time": "2022-03-29T09:31:35.135426Z",
     "start_time": "2022-03-29T09:31:14.306734Z"
    }
   },
   "outputs": [
    {
     "ename": "",
     "evalue": "",
     "output_type": "error",
     "traceback": [
      "\u001b[1;31mThe Kernel crashed while executing code in the current cell or a previous cell. \n",
      "\u001b[1;31mPlease review the code in the cell(s) to identify a possible cause of the failure. \n",
      "\u001b[1;31mClick <a href='https://aka.ms/vscodeJupyterKernelCrash'>here</a> for more info. \n",
      "\u001b[1;31mView Jupyter <a href='command:jupyter.viewOutput'>log</a> for further details."
     ]
    }
   ],
   "source": [
    "ZwoEFW('EFW_filter.dll')"
   ]
  },
  {
   "cell_type": "code",
   "execution_count": null,
   "id": "1012eb03-a243-436e-914f-1c61fe945d9b",
   "metadata": {},
   "outputs": [],
   "source": []
  }
 ],
 "metadata": {
  "hide_input": false,
  "kernelspec": {
   "display_name": "lightspeedenv",
   "language": "python",
   "name": "python3"
  },
  "language_info": {
   "codemirror_mode": {
    "name": "ipython",
    "version": 3
   },
   "file_extension": ".py",
   "mimetype": "text/x-python",
   "name": "python",
   "nbconvert_exporter": "python",
   "pygments_lexer": "ipython3",
   "version": "3.13.2"
  },
  "latex_envs": {
   "LaTeX_envs_menu_present": true,
   "autoclose": false,
   "autocomplete": true,
   "bibliofile": "biblio.bib",
   "cite_by": "apalike",
   "current_citInitial": 1,
   "eqLabelWithNumbers": true,
   "eqNumInitial": 1,
   "hotkeys": {
    "equation": "Ctrl-E",
    "itemize": "Ctrl-I"
   },
   "labels_anchors": false,
   "latex_user_defs": false,
   "report_style_numbering": false,
   "user_envs_cfg": false
  },
  "toc": {
   "base_numbering": 1,
   "nav_menu": {},
   "number_sections": true,
   "sideBar": true,
   "skip_h1_title": false,
   "title_cell": "Table of Contents",
   "title_sidebar": "Contents",
   "toc_cell": false,
   "toc_position": {},
   "toc_section_display": true,
   "toc_window_display": false
  }
 },
 "nbformat": 4,
 "nbformat_minor": 5
}
